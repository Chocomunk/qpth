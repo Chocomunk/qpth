{
 "cells": [
  {
   "cell_type": "code",
   "execution_count": 1,
   "metadata": {},
   "outputs": [],
   "source": [
    "import timeit\n",
    "import torch\n",
    "import numpy as np\n",
    "\n",
    "# import qpth.solvers.dynamic.solve as dynamic_solver\n",
    "from qpth.util import get_sizes, extract_nBatch, expandParam, bdiag\n",
    "from qpth.solvers import cvxpy, dynamic\n",
    "from qpth.qp import QPFunction, QPSolvers"
   ]
  },
  {
   "cell_type": "code",
   "execution_count": 12,
   "metadata": {},
   "outputs": [],
   "source": [
    "def get_kkt_problem(nBatch=2, nx=5, nineq=4, neq=3):\n",
    "    def cast(m):\n",
    "        # return m.cuda().double()\n",
    "        return m.double()\n",
    "\n",
    "    Q = cast(torch.randn(nx, nx))\n",
    "    Q = Q.mm(Q.t())\n",
    "    p = cast(torch.randn(nx))\n",
    "    G = cast(torch.randn(nBatch, nineq, nx))\n",
    "    h = cast(torch.randn(nBatch, nineq))\n",
    "    A = cast(torch.randn(neq, nx))\n",
    "    b = cast(torch.randn(neq))\n",
    "\n",
    "    nBatch = extract_nBatch(Q, p, G, h, A, b)\n",
    "    Q, _ = expandParam(Q, nBatch, 3)\n",
    "    p, _ = expandParam(p, nBatch, 2)\n",
    "    G, _ = expandParam(G, nBatch, 3)\n",
    "    h, _ = expandParam(h, nBatch, 2)\n",
    "    A, _ = expandParam(A, nBatch, 3)\n",
    "    b, _ = expandParam(b, nBatch, 2)\n",
    "\n",
    "    return Q, p, G, h, A, b"
   ]
  },
  {
   "cell_type": "code",
   "execution_count": 16,
   "metadata": {},
   "outputs": [
    {
     "output_type": "stream",
     "name": "stdout",
     "text": "0 29\n0.7246376080220216 0.7977618609802448\n"
    }
   ],
   "source": [
    "# Full Constraints\n",
    "\n",
    "N_ITERS = 100\n",
    "\n",
    "pdipm = QPFunction(verbose=-1, maxIter=20, solver=QPSolvers.PDIPM_BATCHED)\n",
    "dynamic = QPFunction(verbose=-1, maxIter=20, solver=QPSolvers.DYNAMIC)\n",
    "cvxpy = QPFunction(verbose=-1, maxIter=20, solver=QPSolvers.CVXPY)\n",
    "\n",
    "num_same = 0\n",
    "num_infeas = 0\n",
    "\n",
    "time_p = 0\n",
    "time_d = 0\n",
    "\n",
    "showed = False\n",
    "\n",
    "for _ in range(N_ITERS):\n",
    "    Q, p, G, h, A, b = get_kkt_problem(1, 5, 4, 3)\n",
    "\n",
    "    # Check for infeasibility with CVXPY\n",
    "    try:\n",
    "        zc = cvxpy(Q, p, G, h, A, b)\n",
    "    except:\n",
    "        num_infeas += 1\n",
    "        continue\n",
    "\n",
    "    start = timeit.default_timer()\n",
    "    zp = pdipm(Q, p, G, h, A, b)\n",
    "\n",
    "    mid = timeit.default_timer()\n",
    "    zd = dynamic(Q, p, G, h, A, b)\n",
    "\n",
    "    stop = timeit.default_timer()\n",
    "    time_p += mid - start\n",
    "    time_d += stop - start\n",
    "\n",
    "    if np.allclose(zp, zd, rtol=1e-3):\n",
    "        num_same += 1\n",
    "        if not showed:\n",
    "            showed = True\n",
    "            print(Q, p, G, h)\n",
    "\n",
    "print(num_same, num_infeas)\n",
    "print(time_p, time_d)"
   ]
  },
  {
   "cell_type": "code",
   "execution_count": 17,
   "metadata": {},
   "outputs": [
    {
     "output_type": "stream",
     "name": "stdout",
     "text": "tensor([[[ 2.3017, -1.8839,  0.5954,  0.3823],\n         [-1.8839,  2.7673,  0.8585,  0.0732],\n         [ 0.5954,  0.8585,  8.0163, -1.8710],\n         [ 0.3823,  0.0732, -1.8710,  1.2067]]], dtype=torch.float64) tensor([[ 0.9158, -0.9019, -0.3382,  0.9116]], dtype=torch.float64) tensor([[[ 0.7071,  0.0434, -1.1788,  0.5716],\n         [-2.3726,  2.2154,  0.1529,  0.1969],\n         [ 0.0257, -2.2308, -1.3573, -0.4032]]], dtype=torch.float64) tensor([[ 0.9833,  0.2954, -0.0746]], dtype=torch.float64)\n32 0\n0.8351249179904698 0.9478432540272479\n"
    }
   ],
   "source": [
    "# Ineq Constraints\n",
    "\n",
    "N_ITERS = 100\n",
    "\n",
    "pdipm = QPFunction(verbose=-1, maxIter=20, solver=QPSolvers.PDIPM_BATCHED)\n",
    "dynamic = QPFunction(verbose=-1, maxIter=50, solver=QPSolvers.DYNAMIC_INEQ)\n",
    "cvxpy = QPFunction(verbose=-1, maxIter=20, solver=QPSolvers.CVXPY)\n",
    "\n",
    "num_same = 0\n",
    "num_infeas = 0\n",
    "\n",
    "time_p = 0\n",
    "time_d = 0\n",
    "\n",
    "showed = False\n",
    "\n",
    "for _ in range(N_ITERS):\n",
    "    Q, p, G, h, A, b = get_kkt_problem(1, 4, 3, 0)\n",
    "\n",
    "    # Check for infeasibility with CVXPY\n",
    "    try:\n",
    "        zc = cvxpy(Q, p, G, h, A, b)\n",
    "    except:\n",
    "        num_infeas += 1\n",
    "        continue\n",
    "\n",
    "    start = timeit.default_timer()\n",
    "    zp = pdipm(Q, p, G, h, A, b)\n",
    "\n",
    "    mid = timeit.default_timer()\n",
    "    zd = dynamic(Q, p, G, h, A, b)\n",
    "\n",
    "    stop = timeit.default_timer()\n",
    "    time_p += mid - start\n",
    "    time_d += stop - start\n",
    "\n",
    "    if np.allclose(zp, zd, rtol=1e-3):\n",
    "        num_same += 1\n",
    "        if not showed:\n",
    "            showed = True\n",
    "            print(Q, p, G, h)\n",
    "\n",
    "print(num_same, num_infeas)\n",
    "print(time_p, time_d)"
   ]
  },
  {
   "cell_type": "code",
   "execution_count": null,
   "metadata": {},
   "outputs": [],
   "source": []
  }
 ],
 "metadata": {
  "language_info": {
   "codemirror_mode": {
    "name": "ipython",
    "version": 3
   },
   "file_extension": ".py",
   "mimetype": "text/x-python",
   "name": "python",
   "nbconvert_exporter": "python",
   "pygments_lexer": "ipython3",
   "version": "3.8.3-final"
  },
  "orig_nbformat": 2,
  "kernelspec": {
   "name": "python3",
   "display_name": "Python 3"
  }
 },
 "nbformat": 4,
 "nbformat_minor": 2
}