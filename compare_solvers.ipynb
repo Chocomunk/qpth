{
 "cells": [
  {
   "cell_type": "code",
   "execution_count": 1,
   "metadata": {},
   "outputs": [],
   "source": [
    "import timeit\n",
    "import torch\n",
    "import numpy as np\n",
    "\n",
    "# import qpth.solvers.dynamic.solve as dynamic_solver\n",
    "from qpth.util import get_sizes, extract_nBatch, expandParam, bdiag\n",
    "from qpth.solvers import cvxpy, dynamic\n",
    "from qpth.qp import QPFunction, QPSolvers"
   ]
  },
  {
   "cell_type": "code",
   "execution_count": 12,
   "metadata": {},
   "outputs": [],
   "source": [
    "def get_kkt_problem(nBatch=2, nx=5, nineq=4, neq=3):\n",
    "    def cast(m):\n",
    "        # return m.cuda().double()\n",
    "        return m.double()\n",
    "\n",
    "    Q = cast(torch.randn(nx, nx))\n",
    "    Q = Q.mm(Q.t())\n",
    "    p = cast(torch.randn(nx))\n",
    "    G = cast(torch.randn(nBatch, nineq, nx))\n",
    "    h = cast(torch.randn(nBatch, nineq))\n",
    "    A = cast(torch.randn(neq, nx))\n",
    "    b = cast(torch.randn(neq))\n",
    "\n",
    "    nBatch = extract_nBatch(Q, p, G, h, A, b)\n",
    "    Q, _ = expandParam(Q, nBatch, 3)\n",
    "    p, _ = expandParam(p, nBatch, 2)\n",
    "    G, _ = expandParam(G, nBatch, 3)\n",
    "    h, _ = expandParam(h, nBatch, 2)\n",
    "    A, _ = expandParam(A, nBatch, 3)\n",
    "    b, _ = expandParam(b, nBatch, 2)\n",
    "\n",
    "    return Q, p, G, h, A, b"
   ]
  },
  {
   "cell_type": "code",
   "execution_count": 37,
   "metadata": {},
   "outputs": [
    {
     "output_type": "stream",
     "name": "stdout",
     "text": "tensor([[[ 3.6562, -0.9890,  1.8784, -1.8315],\n         [-0.9890,  1.8881, -0.6961,  1.7295],\n         [ 1.8784, -0.6961,  2.7366, -0.2663],\n         [-1.8315,  1.7295, -0.2663,  2.2860]]], dtype=torch.float64) tensor([[ 2.8756, -0.0673,  0.0525,  1.2168]], dtype=torch.float64) tensor([[[ 3.1806,  0.1251, -0.7669,  0.2963],\n         [ 2.3050,  0.5985, -0.2634,  0.3243],\n         [ 1.6911, -0.9691, -0.2315,  0.8648]]], dtype=torch.float64) tensor([[ 0.0981, -0.4432,  0.9458]], dtype=torch.float64)\n4 0\n0.9806801119702868 1.0830009979981696\n"
    }
   ],
   "source": [
    "# Full Constraints\n",
    "\n",
    "N_ITERS = 100\n",
    "\n",
    "pdipm = QPFunction(verbose=-1, maxIter=20, solver=QPSolvers.PDIPM_BATCHED)\n",
    "dynamic = QPFunction(verbose=-1, maxIter=20, solver=QPSolvers.DYNAMIC)\n",
    "cvxpy = QPFunction(verbose=-1, maxIter=20, solver=QPSolvers.CVXPY)\n",
    "\n",
    "num_same = 0\n",
    "num_infeas = 0\n",
    "\n",
    "time_p = 0\n",
    "time_d = 0\n",
    "\n",
    "showed = False\n",
    "\n",
    "for _ in range(N_ITERS):\n",
    "    Q, p, G, h, A, b = get_kkt_problem(1, 4, 3, 1)\n",
    "\n",
    "    # Check for infeasibility with CVXPY\n",
    "    try:\n",
    "        zc = cvxpy(Q, p, G, h, A, b)\n",
    "    except:\n",
    "        num_infeas += 1\n",
    "        continue\n",
    "\n",
    "    start = timeit.default_timer()\n",
    "    zp = pdipm(Q, p, G, h, A, b)\n",
    "\n",
    "    mid = timeit.default_timer()\n",
    "    zd = dynamic(Q, p, G, h, A, b)\n",
    "\n",
    "    stop = timeit.default_timer()\n",
    "    time_p += mid - start\n",
    "    time_d += stop - start\n",
    "\n",
    "    if np.allclose(zp, zd, rtol=1e-3):\n",
    "        num_same += 1\n",
    "        if not showed:\n",
    "            showed = True\n",
    "            print(Q, p, G, h)\n",
    "\n",
    "print(num_same, num_infeas)\n",
    "print(time_p, time_d)"
   ]
  },
  {
   "cell_type": "code",
   "execution_count": 36,
   "metadata": {},
   "outputs": [
    {
     "output_type": "stream",
     "name": "stdout",
     "text": "tensor([[[3.9246, 1.0582, 2.4789],\n         [1.0582, 1.1527, 0.0584],\n         [2.4789, 0.0584, 2.0558]]], dtype=torch.float64) tensor([[ 0.0156,  1.0281, -1.1223]], dtype=torch.float64) tensor([[[-0.9776, -0.2799, -1.0514],\n         [ 1.1528, -2.9337, -0.3934]]], dtype=torch.float64) tensor([[-0.8359, -1.0936]], dtype=torch.float64)\n45 0\n0.771964763996948 0.8755008559601265\n"
    }
   ],
   "source": [
    "# Ineq Constraints\n",
    "\n",
    "N_ITERS = 100\n",
    "\n",
    "pdipm = QPFunction(verbose=-1, maxIter=20, solver=QPSolvers.PDIPM_BATCHED)\n",
    "dynamic = QPFunction(verbose=-1, maxIter=50, solver=QPSolvers.DYNAMIC_INEQ)\n",
    "cvxpy = QPFunction(verbose=-1, maxIter=20, solver=QPSolvers.CVXPY)\n",
    "\n",
    "num_same = 0\n",
    "num_infeas = 0\n",
    "\n",
    "time_p = 0\n",
    "time_d = 0\n",
    "\n",
    "showed = False\n",
    "\n",
    "for _ in range(N_ITERS):\n",
    "    Q, p, G, h, A, b = get_kkt_problem(1, 3, 2, 0)\n",
    "\n",
    "    # Check for infeasibility with CVXPY\n",
    "    try:\n",
    "        zc = cvxpy(Q, p, G, h, A, b)\n",
    "    except:\n",
    "        num_infeas += 1\n",
    "        continue\n",
    "\n",
    "    start = timeit.default_timer()\n",
    "    zp = pdipm(Q, p, G, h, A, b)\n",
    "\n",
    "    mid = timeit.default_timer()\n",
    "    zd = dynamic(Q, p, G, h, A, b)\n",
    "\n",
    "    stop = timeit.default_timer()\n",
    "    time_p += mid - start\n",
    "    time_d += stop - start\n",
    "\n",
    "    if np.allclose(zp, zd, rtol=1e-2):\n",
    "        num_same += 1\n",
    "        if not showed:\n",
    "            showed = True\n",
    "            print(Q, p, G, h)\n",
    "\n",
    "print(num_same, num_infeas)\n",
    "print(time_p, time_d)"
   ]
  },
  {
   "cell_type": "code",
   "execution_count": null,
   "metadata": {},
   "outputs": [],
   "source": []
  }
 ],
 "metadata": {
  "language_info": {
   "codemirror_mode": {
    "name": "ipython",
    "version": 3
   },
   "file_extension": ".py",
   "mimetype": "text/x-python",
   "name": "python",
   "nbconvert_exporter": "python",
   "pygments_lexer": "ipython3",
   "version": "3.8.3-final"
  },
  "orig_nbformat": 2,
  "kernelspec": {
   "name": "python3",
   "display_name": "Python 3"
  }
 },
 "nbformat": 4,
 "nbformat_minor": 2
}