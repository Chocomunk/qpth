{
 "cells": [
  {
   "cell_type": "code",
   "execution_count": 1,
   "metadata": {},
   "outputs": [],
   "source": [
    "import torch\n",
    "\n",
    "# import qpth.solvers.dynamic.solve as dynamic_solver\n",
    "from qpth.util import get_sizes, extract_nBatch, expandParam\n",
    "from qpth.solvers import cvxpy, dynamic\n",
    "from qpth.qp import QPFunction, QPSolvers"
   ]
  },
  {
   "cell_type": "code",
   "execution_count": 2,
   "metadata": {},
   "outputs": [],
   "source": [
    "def forward_cvxpy(Q_, p_, G_, h_, A_, b_):\n",
    "    nBatch = extract_nBatch(Q_, p_, G_, h_, A_, b_)\n",
    "    Q, _ = expandParam(Q_, nBatch, 3)\n",
    "    p, _ = expandParam(p_, nBatch, 2)\n",
    "    G, _ = expandParam(G_, nBatch, 3)\n",
    "    h, _ = expandParam(h_, nBatch, 2)\n",
    "    A, _ = expandParam(A_, nBatch, 3)\n",
    "    b, _ = expandParam(b_, nBatch, 2)\n",
    "\n",
    "    check_Q_spd = True\n",
    "    if check_Q_spd:\n",
    "        for i in range(nBatch):\n",
    "            e, _ = torch.eig(Q[i])\n",
    "            if not torch.all(e[:,0] > 0):\n",
    "                raise RuntimeError('Q is not SPD.')\n",
    "\n",
    "    _, nineq, nz = G.size()\n",
    "    neq = A.size(1) if A.nelement() > 0 else 0\n",
    "    assert(neq > 0 or nineq > 0)\n",
    "\n",
    "    vals = torch.Tensor(nBatch).type_as(Q)\n",
    "    zhats = torch.Tensor(nBatch, nz).type_as(Q)\n",
    "    lams = torch.Tensor(nBatch, nineq).type_as(Q)\n",
    "    nus = torch.Tensor(nBatch, neq).type_as(Q) \\\n",
    "        if neq > 0 else torch.Tensor()\n",
    "    slacks = torch.Tensor(nBatch, nineq).type_as(Q)\n",
    "    for i in range(nBatch):\n",
    "        Ai, bi = (A[i], b[i]) if neq > 0 else (None, None)\n",
    "        vals[i], zhati, nui, lami, si = cvxpy.forward_single_np(\n",
    "            *[x.cpu().numpy() if x is not None else None\n",
    "            for x in (Q[i], p[i], G[i], h[i], Ai, bi)])\n",
    "        # if zhati[0] is None:\n",
    "        #     import IPython, sys; IPython.embed(); sys.exit(-1)\n",
    "        zhats[i] = torch.Tensor(zhati)\n",
    "        lams[i] = torch.Tensor(lami)\n",
    "        slacks[i] = torch.Tensor(si)\n",
    "        if neq > 0:\n",
    "            nus[i] = torch.Tensor(nui)\n",
    "\n",
    "    return zhats, lams, nus, slacks\n"
   ]
  },
  {
   "cell_type": "code",
   "execution_count": 10,
   "metadata": {},
   "outputs": [],
   "source": [
    "# Example data from: https://ncss-wpengine.netdna-ssl.com/wp-content/themes/ncss/pdf/Procedures/NCSS/Quadratic_Programming.pdf\n",
    "\n",
    "p = torch.tensor([1, -2, 4], dtype=torch.float).unsqueeze(0).cuda()\n",
    "Q = torch.tensor([[2,0,1],[0,4,0],[1,0,6]], dtype=torch.float).unsqueeze(0).cuda()\n",
    "h = torch.tensor([10, -2, 5, 5, 5, 0, 1, 0], dtype=torch.float).unsqueeze(0).cuda()\n",
    "G = torch.tensor([\n",
    "    [3, 4, -2],\n",
    "    [2, -2, -1],\n",
    "    [1, 0, 0],\n",
    "    [0, 1, 0],\n",
    "    [0, 0, 1],\n",
    "    [-1, 0, 0],\n",
    "    [0, -1, 0],\n",
    "    [0, 0, -1]\n",
    "], dtype=torch.float).unsqueeze(0).cuda()\n",
    "b = torch.tensor([5], dtype=torch.float).unsqueeze(0).cuda()\n",
    "A = torch.tensor([\n",
    "    [2, 3, 4]\n",
    "], dtype=torch.float).unsqueeze(0).cuda()"
   ]
  },
  {
   "cell_type": "code",
   "execution_count": 4,
   "metadata": {},
   "outputs": [],
   "source": [
    "# Random Data\n",
    "\n",
    "neq = 4\n",
    "nineq = 5\n",
    "nz = 3\n",
    "nBatch = 2\n",
    "\n",
    "_x = torch.rand(nBatch, nz, nz, dtype=torch.float).cuda()\n",
    "Q = (_x.bmm(_x.transpose(-1,1)))\n",
    "p = torch.rand(nBatch, nz, dtype=torch.float).cuda()\n",
    "h = torch.rand(nBatch, nineq, dtype=torch.float).cuda()\n",
    "G = torch.rand(nBatch, nineq, nz, dtype=torch.float).cuda()\n",
    "b = torch.rand(nBatch, neq, dtype=torch.float).cuda()\n",
    "A = torch.rand(nBatch, neq, nz, dtype=torch.float).cuda()"
   ]
  },
  {
   "cell_type": "code",
   "execution_count": 16,
   "metadata": {
    "tags": [
     "outputPrepend",
     "outputPrepend",
     "outputPrepend",
     "outputPrepend"
    ]
   },
   "outputs": [
    {
     "output_type": "stream",
     "name": "stdout",
     "text": "716]], device='cuda:0')\ntensor([[3.2789e+00, 1.2345e-09, 4.6053e+00, 3.6105e+00, 4.9895e+00, 3.9474e-01,\n         2.3895e+00, 1.0527e-02]], device='cuda:0')\ntensor([[0.3947, 1.3895, 0.0105]], device='cuda:0')\ntensor([[6.7359e-11, 1.7158e-01, 4.6668e-11, 5.9615e-11, 4.2959e-11, 5.3825e-10,\n         8.9550e-11, 3.5765e-06]], device='cuda:0')\ntensor([[-1.0716]], device='cuda:0')\ntensor([[3.2789e+00, 1.2345e-09, 4.6053e+00, 3.6105e+00, 4.9895e+00, 3.9474e-01,\n         2.3895e+00, 1.0527e-02]], device='cuda:0')\ntensor([[0.3947, 1.3895, 0.0105]], device='cuda:0')\ntensor([[6.7359e-11, 1.7158e-01, 4.6668e-11, 5.9615e-11, 4.2959e-11, 5.3825e-10,\n         8.9550e-11, 3.5765e-06]], device='cuda:0')\ntensor([[-1.0716]], device='cuda:0')\ntensor([[3.2789e+00, 1.2345e-09, 4.6053e+00, 3.6105e+00, 4.9895e+00, 3.9474e-01,\n         2.3895e+00, 1.0527e-02]], device='cuda:0')\ntensor([[0.3947, 1.3895, 0.0105]], device='cuda:0')\ntensor([[6.7359e-11, 1.7158e-01, 4.6668e-11, 5.9615e-11, 4.2959e-11, 5.3825e-10,\n         8.9550e-11, 3.5765e-06]], device='cuda:0')\ntensor([[-1.0716]], device='cuda:0')\ntensor([[3.2789e+00, 1.2345e-09, 4.6053e+00, 3.6105e+00, 4.9895e+00, 3.9474e-01,\n         2.3895e+00, 1.0527e-02]], device='cuda:0')\ntensor([[0.3947, 1.3895, 0.0105]], device='cuda:0')\ntensor([[6.7359e-11, 1.7158e-01, 4.6668e-11, 5.9615e-11, 4.2959e-11, 5.3825e-10,\n         8.9550e-11, 3.5765e-06]], device='cuda:0')\ntensor([[-1.0716]], device='cuda:0')\ntensor([[3.2789e+00, 1.2345e-09, 4.6053e+00, 3.6105e+00, 4.9895e+00, 3.9474e-01,\n         2.3895e+00, 1.0527e-02]], device='cuda:0')\n482 ms ± 29.3 ms per loop (mean ± std. dev. of 7 runs, 1 loop each)\ntensor([[0.3947, 1.3895, 0.0105]], device='cuda:0')\ntensor([[6.7359e-11, 1.7158e-01, 4.6668e-11, 5.9615e-11, 4.2959e-11, 5.3825e-10,\n         8.9550e-11, 3.5765e-06]], device='cuda:0')\ntensor([[-1.0716]], device='cuda:0')\ntensor([[3.2789e+00, 1.2345e-09, 4.6053e+00, 3.6105e+00, 4.9895e+00, 3.9474e-01,\n         2.3895e+00, 1.0527e-02]], device='cuda:0')\n"
    }
   ],
   "source": [
    "# OptNet \n",
    "\n",
    "f = QPFunction(verbose=-1, maxIter=100, solver=QPSolvers.PDIPM_BATCHED)\n",
    "%timeit f(Q, p, G, h, A, b)\n",
    "zhat = f(Q, p, G, h, A, b)"
   ]
  },
  {
   "cell_type": "code",
   "execution_count": 14,
   "metadata": {
    "tags": [
     "outputPrepend",
     "outputPrepend",
     "outputPrepend",
     "outputPrepend",
     "outputPrepend",
     "outputPrepend",
     "outputPrepend",
     "outputPrepend",
     "outputPrepend",
     "outputPrepend",
     "outputPrepend",
     "outputPrepend",
     "outputPrepend",
     "outputPrepend",
     "outputPrepend",
     "outputPrepend",
     "outputPrepend",
     "outputPrepend",
     "outputPrepend",
     "outputPrepend",
     "outputPrepend",
     "outputPrepend",
     "outputPrepend",
     "outputPrepend",
     "outputPrepend",
     "outputPrepend",
     "outputPrepend",
     "outputPrepend",
     "outputPrepend",
     "outputPrepend",
     "outputPrepend",
     "outputPrepend"
    ]
   },
   "outputs": [
    {
     "output_type": "stream",
     "name": "stdout",
     "text": "da:0')\ntensor([[0.0000, 0.1627, 0.0000, 0.0000, 0.0000, 0.0000, 0.0000, 0.1003]],\n       device='cuda:0')\ntensor([[-1.0629]], device='cuda:0')\ntensor([[ 3.3582e+00, -1.7956e-03,  4.6102e+00,  3.6215e+00,  4.9792e+00,\n          3.8979e-01,  2.3785e+00,  2.0780e-02]], device='cuda:0')\ntensor([[0.3938, 1.3869, 0.0127]], device='cuda:0')\ntensor([[0.0000, 0.1695, 0.0000, 0.0000, 0.0000, 0.0000, 0.0000, 0.0221]],\n       device='cuda:0')\ntensor([[-1.0696]], device='cuda:0')\ntensor([[ 3.2964e+00, -1.0946e-03,  4.6062e+00,  3.6131e+00,  4.9873e+00,\n          3.9378e-01,  2.3869e+00,  1.2666e-02]], device='cuda:0')\ntensor([[0.3826, 1.3635, 0.0353]], device='cuda:0')\ntensor([[0.0000, 0.1506, 0.0000, 0.0000, 0.0000, 0.0000, 0.0000, 0.2404]],\n       device='cuda:0')\ntensor([[-1.0509]], device='cuda:0')\ntensor([[ 3.4689e+00, -3.0522e-03,  4.6174e+00,  3.6365e+00,  4.9647e+00,\n          3.8265e-01,  2.3635e+00,  3.5324e-02]], device='cuda:0')\ntensor([[0.3763, 1.3500, 0.0483]], device='cuda:0')\ntensor([[0.0000, 0.1398, 0.0000, 0.0000, 0.0000, 0.0000, 0.0000, 0.3657]],\n       device='cuda:0')\ntensor([[-1.0402]], device='cuda:0')\ntensor([[ 3.5678e+00, -4.1752e-03,  4.6237e+00,  3.6500e+00,  4.9517e+00,\n          3.7627e-01,  2.3500e+00,  4.8318e-02]], device='cuda:0')\ntensor([[0.3823, 1.3627, 0.0361]], device='cuda:0')\ntensor([[0.0000, 0.1499, 0.0000, 0.0000, 0.0000, 0.0000, 0.0000, 0.2479]],\n       device='cuda:0')\ntensor([[-1.0503]], device='cuda:0')\ntensor([[ 3.4747e+00, -3.1193e-03,  4.6177e+00,  3.6373e+00,  4.9639e+00,\n          3.8227e-01,  2.3627e+00,  3.6096e-02]], device='cuda:0')\n92.9 ms ± 7.91 ms per loop (mean ± std. dev. of 7 runs, 10 loops each)\ntensor([[0.3918, 1.3827, 0.0167]], device='cuda:0')\ntensor([[0.0000, 0.1661, 0.0000, 0.0000, 0.0000, 0.0000, 0.0000, 0.0611]],\n       device='cuda:0')\ntensor([[-1.0662]], device='cuda:0')\ntensor([[ 3.3272e+00, -1.4448e-03,  4.6082e+00,  3.6173e+00,  4.9833e+00,\n          3.9179e-01,  2.3827e+00,  1.6718e-02]], device='cuda:0')\n"
    }
   ],
   "source": [
    "# Layer Dynamic\n",
    "\n",
    "f = QPFunction(verbose=-1, maxIter=40, solver=QPSolvers.DYNAMIC)\n",
    "%timeit f(Q, p, G, h, A, b)\n",
    "zhat = f(Q, p, G, h, A, b)"
   ]
  },
  {
   "cell_type": "code",
   "execution_count": 17,
   "metadata": {
    "tags": [
     "outputPrepend",
     "outputPrepend",
     "outputPrepend",
     "outputPrepend",
     "outputPrepend",
     "outputPrepend",
     "outputPrepend",
     "outputPrepend",
     "outputPrepend",
     "outputPrepend",
     "outputPrepend",
     "outputPrepend",
     "outputPrepend",
     "outputPrepend",
     "outputPrepend",
     "outputPrepend",
     "outputPrepend",
     "outputPrepend",
     "outputPrepend",
     "outputPrepend"
    ]
   },
   "outputs": [
    {
     "output_type": "stream",
     "name": "stdout",
     "text": ".0105]], device='cuda:0')\ntensor([[ 0.0000e+00,  1.7158e-01,  0.0000e+00,  0.0000e+00, -1.6051e-15,\n          1.0195e-21,  8.0256e-16, -1.1282e-21]], device='cuda:0')\ntensor([[-1.0716]], device='cuda:0')\ntensor([[3.2789e+00, 1.6856e-22, 4.6053e+00, 3.6105e+00, 4.9895e+00, 3.9474e-01,\n         2.3895e+00, 1.0526e-02]], device='cuda:0')\n[0.39473684 1.38947368 0.01052632]\ntensor([[0.3947, 1.3895, 0.0105]], device='cuda:0')\ntensor([[ 0.0000e+00,  1.7158e-01,  0.0000e+00,  0.0000e+00, -1.6051e-15,\n          1.0195e-21,  8.0256e-16, -1.1282e-21]], device='cuda:0')\ntensor([[-1.0716]], device='cuda:0')\ntensor([[3.2789e+00, 1.6856e-22, 4.6053e+00, 3.6105e+00, 4.9895e+00, 3.9474e-01,\n         2.3895e+00, 1.0526e-02]], device='cuda:0')\n[0.39473684 1.38947368 0.01052632]\ntensor([[0.3947, 1.3895, 0.0105]], device='cuda:0')\ntensor([[ 0.0000e+00,  1.7158e-01,  0.0000e+00,  0.0000e+00, -1.6051e-15,\n          1.0195e-21,  8.0256e-16, -1.1282e-21]], device='cuda:0')\ntensor([[-1.0716]], device='cuda:0')\ntensor([[3.2789e+00, 1.6856e-22, 4.6053e+00, 3.6105e+00, 4.9895e+00, 3.9474e-01,\n         2.3895e+00, 1.0526e-02]], device='cuda:0')\n[0.39473684 1.38947368 0.01052632]\ntensor([[0.3947, 1.3895, 0.0105]], device='cuda:0')\ntensor([[ 0.0000e+00,  1.7158e-01,  0.0000e+00,  0.0000e+00, -1.6051e-15,\n          1.0195e-21,  8.0256e-16, -1.1282e-21]], device='cuda:0')\ntensor([[-1.0716]], device='cuda:0')\ntensor([[3.2789e+00, 1.6856e-22, 4.6053e+00, 3.6105e+00, 4.9895e+00, 3.9474e-01,\n         2.3895e+00, 1.0526e-02]], device='cuda:0')\n45.4 ms ± 2.06 ms per loop (mean ± std. dev. of 7 runs, 10 loops each)\n[0.39473684 1.38947368 0.01052632]\ntensor([[0.3947, 1.3895, 0.0105]], device='cuda:0')\ntensor([[ 0.0000e+00,  1.7158e-01,  0.0000e+00,  0.0000e+00, -1.6051e-15,\n          1.0195e-21,  8.0256e-16, -1.1282e-21]], device='cuda:0')\ntensor([[-1.0716]], device='cuda:0')\ntensor([[3.2789e+00, 1.6856e-22, 4.6053e+00, 3.6105e+00, 4.9895e+00, 3.9474e-01,\n         2.3895e+00, 1.0526e-02]], device='cuda:0')\n"
    }
   ],
   "source": [
    "# CVXPY\n",
    "\n",
    "f = QPFunction(verbose=-1, maxIter=20, solver=QPSolvers.CVXPY)\n",
    "%timeit f(Q, p, G, h, A, b)\n",
    "zhat = f(Q, p, G, h, A, b)"
   ]
  },
  {
   "cell_type": "code",
   "execution_count": 13,
   "metadata": {
    "tags": [
     "outputPrepend",
     "outputPrepend",
     "outputPrepend",
     "outputPrepend",
     "outputPrepend",
     "outputPrepend",
     "outputPrepend",
     "outputPrepend",
     "outputPrepend",
     "outputPrepend",
     "outputPrepend",
     "outputPrepend",
     "outputPrepend",
     "outputPrepend",
     "outputPrepend",
     "outputPrepend",
     "outputPrepend",
     "outputPrepend",
     "outputPrepend",
     "outputPrepend",
     "outputPrepend",
     "outputPrepend"
    ]
   },
   "outputs": [
    {
     "output_type": "stream",
     "name": "stdout",
     "text": "tensor([[-5.4062e+15, -6.4525e+14,  3.2375e+15],\n        [-8.6517e+02, -6.4365e+02,  1.9715e+03]], device='cuda:0')\ntensor([[0.0000e+00, 0.0000e+00, 0.0000e+00, 1.1468e+13, 0.0000e+00],\n        [6.5945e+00, 0.0000e+00, 7.4883e+01, 0.0000e+00, 0.0000e+00]],\n       device='cuda:0')\ntensor([[-1.8995e+15,  1.7331e+15,  1.1393e+15, -1.4028e+15],\n        [-1.3153e+03, -1.9290e+02,  1.6116e+03, -8.8133e+02]], device='cuda:0')\ntensor([[-1.1443e+15,  2.3243e+15,  4.2349e+15, -3.4497e+14,  3.3386e+14],\n        [-2.6685e+00,  1.2827e+02, -2.5753e+01,  4.0653e+02,  1.0937e+03]],\n       device='cuda:0')\n"
    }
   ],
   "source": [
    "# Standard Forward\n",
    "\n",
    "# %timeit dynamic.forward(Q, p, G, h, A, b, maxIter=100)\n",
    "zhat, lams, nus, slacks = dynamic.forward(Q, p, G, h, A, b, maxIter=100)\n",
    "\n",
    "print(zhat)\n",
    "print(lams)\n",
    "print(nus)\n",
    "print(slacks)"
   ]
  },
  {
   "cell_type": "code",
   "execution_count": 27,
   "metadata": {},
   "outputs": [
    {
     "output_type": "error",
     "ename": "AssertionError",
     "evalue": "",
     "traceback": [
      "\u001b[1;31m---------------------------------------------------------------------------\u001b[0m",
      "\u001b[1;31mAssertionError\u001b[0m                            Traceback (most recent call last)",
      "\u001b[1;32m<ipython-input-27-51d9633d1cb1>\u001b[0m in \u001b[0;36m<module>\u001b[1;34m\u001b[0m\n\u001b[0;32m      2\u001b[0m \u001b[1;33m\u001b[0m\u001b[0m\n\u001b[0;32m      3\u001b[0m \u001b[1;31m# %timeit forward_cvxpy(Q, p, G, h, A, b)\u001b[0m\u001b[1;33m\u001b[0m\u001b[1;33m\u001b[0m\u001b[1;33m\u001b[0m\u001b[0m\n\u001b[1;32m----> 4\u001b[1;33m \u001b[0mzhat\u001b[0m\u001b[1;33m,\u001b[0m \u001b[0mlams\u001b[0m\u001b[1;33m,\u001b[0m \u001b[0mnus\u001b[0m\u001b[1;33m,\u001b[0m \u001b[0mslacks\u001b[0m \u001b[1;33m=\u001b[0m \u001b[0mforward_cvxpy\u001b[0m\u001b[1;33m(\u001b[0m\u001b[0mQ\u001b[0m\u001b[1;33m,\u001b[0m \u001b[0mp\u001b[0m\u001b[1;33m,\u001b[0m \u001b[0mG\u001b[0m\u001b[1;33m,\u001b[0m \u001b[0mh\u001b[0m\u001b[1;33m,\u001b[0m \u001b[0mA\u001b[0m\u001b[1;33m,\u001b[0m \u001b[0mb\u001b[0m\u001b[1;33m)\u001b[0m\u001b[1;33m\u001b[0m\u001b[1;33m\u001b[0m\u001b[0m\n\u001b[0m\u001b[0;32m      5\u001b[0m \u001b[1;33m\u001b[0m\u001b[0m\n\u001b[0;32m      6\u001b[0m \u001b[0mprint\u001b[0m\u001b[1;33m(\u001b[0m\u001b[0mzhat\u001b[0m\u001b[1;33m)\u001b[0m\u001b[1;33m\u001b[0m\u001b[1;33m\u001b[0m\u001b[0m\n",
      "\u001b[1;32m<ipython-input-2-2892a18df664>\u001b[0m in \u001b[0;36mforward_cvxpy\u001b[1;34m(Q_, p_, G_, h_, A_, b_)\u001b[0m\n\u001b[0;32m     27\u001b[0m     \u001b[1;32mfor\u001b[0m \u001b[0mi\u001b[0m \u001b[1;32min\u001b[0m \u001b[0mrange\u001b[0m\u001b[1;33m(\u001b[0m\u001b[0mnBatch\u001b[0m\u001b[1;33m)\u001b[0m\u001b[1;33m:\u001b[0m\u001b[1;33m\u001b[0m\u001b[1;33m\u001b[0m\u001b[0m\n\u001b[0;32m     28\u001b[0m         \u001b[0mAi\u001b[0m\u001b[1;33m,\u001b[0m \u001b[0mbi\u001b[0m \u001b[1;33m=\u001b[0m \u001b[1;33m(\u001b[0m\u001b[0mA\u001b[0m\u001b[1;33m[\u001b[0m\u001b[0mi\u001b[0m\u001b[1;33m]\u001b[0m\u001b[1;33m,\u001b[0m \u001b[0mb\u001b[0m\u001b[1;33m[\u001b[0m\u001b[0mi\u001b[0m\u001b[1;33m]\u001b[0m\u001b[1;33m)\u001b[0m \u001b[1;32mif\u001b[0m \u001b[0mneq\u001b[0m \u001b[1;33m>\u001b[0m \u001b[1;36m0\u001b[0m \u001b[1;32melse\u001b[0m \u001b[1;33m(\u001b[0m\u001b[1;32mNone\u001b[0m\u001b[1;33m,\u001b[0m \u001b[1;32mNone\u001b[0m\u001b[1;33m)\u001b[0m\u001b[1;33m\u001b[0m\u001b[1;33m\u001b[0m\u001b[0m\n\u001b[1;32m---> 29\u001b[1;33m         vals[i], zhati, nui, lami, si = cvxpy.forward_single_np(\n\u001b[0m\u001b[0;32m     30\u001b[0m             *[x.cpu().numpy() if x is not None else None\n\u001b[0;32m     31\u001b[0m             for x in (Q[i], p[i], G[i], h[i], Ai, bi)])\n",
      "\u001b[1;32md:\\Programming\\Projects\\Git\\OptNet\\CS159Project\\qpth\\qpth\\solvers\\cvxpy.py\u001b[0m in \u001b[0;36mforward_single_np\u001b[1;34m(Q, p, G, h, A, b)\u001b[0m\n\u001b[0;32m     20\u001b[0m     \u001b[0mprob\u001b[0m\u001b[1;33m.\u001b[0m\u001b[0msolve\u001b[0m\u001b[1;33m(\u001b[0m\u001b[1;33m)\u001b[0m  \u001b[1;31m# solver=cp.SCS, max_iters=5000, verbose=False)\u001b[0m\u001b[1;33m\u001b[0m\u001b[1;33m\u001b[0m\u001b[0m\n\u001b[0;32m     21\u001b[0m     \u001b[1;31m# prob.solve(solver=cp.SCS, max_iters=10000, verbose=True)\u001b[0m\u001b[1;33m\u001b[0m\u001b[1;33m\u001b[0m\u001b[1;33m\u001b[0m\u001b[0m\n\u001b[1;32m---> 22\u001b[1;33m     \u001b[1;32massert\u001b[0m\u001b[1;33m(\u001b[0m\u001b[1;34m'optimal'\u001b[0m \u001b[1;32min\u001b[0m \u001b[0mprob\u001b[0m\u001b[1;33m.\u001b[0m\u001b[0mstatus\u001b[0m\u001b[1;33m)\u001b[0m\u001b[1;33m\u001b[0m\u001b[1;33m\u001b[0m\u001b[0m\n\u001b[0m\u001b[0;32m     23\u001b[0m     \u001b[0mzhat\u001b[0m \u001b[1;33m=\u001b[0m \u001b[0mnp\u001b[0m\u001b[1;33m.\u001b[0m\u001b[0marray\u001b[0m\u001b[1;33m(\u001b[0m\u001b[0mz_\u001b[0m\u001b[1;33m.\u001b[0m\u001b[0mvalue\u001b[0m\u001b[1;33m)\u001b[0m\u001b[1;33m.\u001b[0m\u001b[0mravel\u001b[0m\u001b[1;33m(\u001b[0m\u001b[1;33m)\u001b[0m\u001b[1;33m\u001b[0m\u001b[1;33m\u001b[0m\u001b[0m\n\u001b[0;32m     24\u001b[0m     \u001b[0mnu\u001b[0m \u001b[1;33m=\u001b[0m \u001b[0mnp\u001b[0m\u001b[1;33m.\u001b[0m\u001b[0marray\u001b[0m\u001b[1;33m(\u001b[0m\u001b[0meqCon\u001b[0m\u001b[1;33m.\u001b[0m\u001b[0mdual_value\u001b[0m\u001b[1;33m)\u001b[0m\u001b[1;33m.\u001b[0m\u001b[0mravel\u001b[0m\u001b[1;33m(\u001b[0m\u001b[1;33m)\u001b[0m \u001b[1;32mif\u001b[0m \u001b[0meqCon\u001b[0m \u001b[1;32mis\u001b[0m \u001b[1;32mnot\u001b[0m \u001b[1;32mNone\u001b[0m \u001b[1;32melse\u001b[0m \u001b[1;32mNone\u001b[0m\u001b[1;33m\u001b[0m\u001b[1;33m\u001b[0m\u001b[0m\n",
      "\u001b[1;31mAssertionError\u001b[0m: "
     ]
    }
   ],
   "source": [
    "# CVXPY\n",
    "\n",
    "# %timeit forward_cvxpy(Q, p, G, h, A, b)\n",
    "zhat, lams, nus, slacks = forward_cvxpy(Q, p, G, h, A, b)\n",
    "\n",
    "print(zhat)\n",
    "print(lams)\n",
    "print(nus)\n",
    "print(slacks)"
   ]
  },
  {
   "cell_type": "code",
   "execution_count": null,
   "metadata": {},
   "outputs": [],
   "source": []
  }
 ],
 "metadata": {
  "language_info": {
   "codemirror_mode": {
    "name": "ipython",
    "version": 3
   },
   "file_extension": ".py",
   "mimetype": "text/x-python",
   "name": "python",
   "nbconvert_exporter": "python",
   "pygments_lexer": "ipython3",
   "version": "3.8.2-final"
  },
  "orig_nbformat": 2,
  "kernelspec": {
   "name": "python38264bitcs159conda5739f4b666d44eb9afad7229d8e1fa2f",
   "display_name": "Python 3.8.2 64-bit ('cs159': conda)"
  }
 },
 "nbformat": 4,
 "nbformat_minor": 2
}