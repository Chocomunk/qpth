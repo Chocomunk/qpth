{
 "cells": [
  {
   "cell_type": "code",
   "execution_count": 1,
   "metadata": {},
   "outputs": [],
   "source": [
    "import torch\n",
    "\n",
    "# import qpth.solvers.dynamic.solve as dynamic_solver\n",
    "from qpth.util import get_sizes, extract_nBatch, expandParam, bdiag\n",
    "from qpth.solvers import cvxpy, dynamic\n",
    "from qpth.qp import QPFunction, QPSolvers"
   ]
  },
  {
   "cell_type": "code",
   "execution_count": 2,
   "metadata": {},
   "outputs": [],
   "source": [
    "def forward_cvxpy(Q_, p_, G_, h_, A_, b_):\n",
    "    nBatch = extract_nBatch(Q_, p_, G_, h_, A_, b_)\n",
    "    Q, _ = expandParam(Q_, nBatch, 3)\n",
    "    p, _ = expandParam(p_, nBatch, 2)\n",
    "    G, _ = expandParam(G_, nBatch, 3)\n",
    "    h, _ = expandParam(h_, nBatch, 2)\n",
    "    A, _ = expandParam(A_, nBatch, 3)\n",
    "    b, _ = expandParam(b_, nBatch, 2)\n",
    "\n",
    "    check_Q_spd = True\n",
    "    if check_Q_spd:\n",
    "        for i in range(nBatch):\n",
    "            e, _ = torch.eig(Q[i])\n",
    "            if not torch.all(e[:,0] > 0):\n",
    "                raise RuntimeError('Q is not SPD.')\n",
    "\n",
    "    _, nineq, nz = G.size()\n",
    "    neq = A.size(1) if A.nelement() > 0 else 0\n",
    "    assert(neq > 0 or nineq > 0)\n",
    "\n",
    "    vals = torch.Tensor(nBatch).type_as(Q)\n",
    "    zhats = torch.Tensor(nBatch, nz).type_as(Q)\n",
    "    lams = torch.Tensor(nBatch, nineq).type_as(Q)\n",
    "    nus = torch.Tensor(nBatch, neq).type_as(Q) \\\n",
    "        if neq > 0 else torch.Tensor()\n",
    "    slacks = torch.Tensor(nBatch, nineq).type_as(Q)\n",
    "    for i in range(nBatch):\n",
    "        Ai, bi = (A[i], b[i]) if neq > 0 else (None, None)\n",
    "        vals[i], zhati, nui, lami, si = cvxpy.forward_single_np(\n",
    "            *[x.cpu().numpy() if x is not None else None\n",
    "            for x in (Q[i], p[i], G[i], h[i], Ai, bi)])\n",
    "        # if zhati[0] is None:\n",
    "        #     import IPython, sys; IPython.embed(); sys.exit(-1)\n",
    "        zhats[i] = torch.Tensor(zhati)\n",
    "        lams[i] = torch.Tensor(lami)\n",
    "        slacks[i] = torch.Tensor(si)\n",
    "        if neq > 0:\n",
    "            nus[i] = torch.Tensor(nui)\n",
    "\n",
    "    return zhats, lams, nus, slacks\n",
    "\n",
    "def get_kkt_problem(nBatch=2, nx=5, nineq=4, neq=3):\n",
    "    def cast(m):\n",
    "        # return m.cuda().double()\n",
    "        return m.double()\n",
    "\n",
    "    Q = cast(torch.randn(nx, nx))\n",
    "    Q = Q.mm(Q.t())\n",
    "    p = cast(torch.randn(nx))\n",
    "    G = cast(torch.randn(nBatch, nineq, nx))\n",
    "    h = cast(torch.zeros(nBatch, nineq))\n",
    "    A = cast(torch.randn(neq, nx))\n",
    "    b = cast(torch.randn(neq))\n",
    "\n",
    "    nBatch = extract_nBatch(Q, p, G, h, A, b)\n",
    "    Q, _ = expandParam(Q, nBatch, 3)\n",
    "    p, _ = expandParam(p, nBatch, 2)\n",
    "    G, _ = expandParam(G, nBatch, 3)\n",
    "    h, _ = expandParam(h, nBatch, 2)\n",
    "    A, _ = expandParam(A, nBatch, 3)\n",
    "    b, _ = expandParam(b, nBatch, 2)\n",
    "\n",
    "    d = torch.rand(nBatch, nineq).type_as(Q)\n",
    "    D = bdiag(d)\n",
    "    rx = torch.rand(nBatch, nx).type_as(Q)\n",
    "    rs = torch.rand(nBatch, nineq).type_as(Q)\n",
    "    rz = torch.rand(nBatch, nineq).type_as(Q)\n",
    "    ry = torch.rand(nBatch, neq).type_as(Q)\n",
    "\n",
    "    return Q, p, G, h, A, b, d, D, rx, rs, rz, ry"
   ]
  },
  {
   "cell_type": "code",
   "execution_count": 3,
   "metadata": {},
   "outputs": [],
   "source": [
    "Q, p, G, h, A, b, _, _, _, _, _, _ = get_kkt_problem(1,5,4,3)"
   ]
  },
  {
   "cell_type": "code",
   "execution_count": 4,
   "metadata": {
    "tags": [
     "outputPrepend",
     "outputPrepend",
     "outputPrepend",
     "outputPrepend"
    ]
   },
   "outputs": [
    {
     "output_type": "error",
     "ename": "IndexError",
     "evalue": "list index out of range",
     "traceback": [
      "\u001b[0;31m---------------------------------------------------------------------------\u001b[0m",
      "\u001b[0;31mIndexError\u001b[0m                                Traceback (most recent call last)",
      "\u001b[0;32m<ipython-input-4-cf047375b5d5>\u001b[0m in \u001b[0;36m<module>\u001b[0;34m\u001b[0m\n\u001b[1;32m      3\u001b[0m \u001b[0mf\u001b[0m \u001b[0;34m=\u001b[0m \u001b[0mQPFunction\u001b[0m\u001b[0;34m(\u001b[0m\u001b[0mverbose\u001b[0m\u001b[0;34m=\u001b[0m\u001b[0;34m-\u001b[0m\u001b[0;36m1\u001b[0m\u001b[0;34m,\u001b[0m \u001b[0mmaxIter\u001b[0m\u001b[0;34m=\u001b[0m\u001b[0;36m100\u001b[0m\u001b[0;34m,\u001b[0m \u001b[0msolver\u001b[0m\u001b[0;34m=\u001b[0m\u001b[0mQPSolvers\u001b[0m\u001b[0;34m.\u001b[0m\u001b[0mPDIPM_BATCHED\u001b[0m\u001b[0;34m)\u001b[0m\u001b[0;34m\u001b[0m\u001b[0;34m\u001b[0m\u001b[0m\n\u001b[1;32m      4\u001b[0m \u001b[0;31m# %timeit f(Q, p, G, h, A, b)\u001b[0m\u001b[0;34m\u001b[0m\u001b[0;34m\u001b[0m\u001b[0;34m\u001b[0m\u001b[0m\n\u001b[0;32m----> 5\u001b[0;31m \u001b[0mzhat\u001b[0m \u001b[0;34m=\u001b[0m \u001b[0mf\u001b[0m\u001b[0;34m(\u001b[0m\u001b[0mQ\u001b[0m\u001b[0;34m,\u001b[0m \u001b[0mp\u001b[0m\u001b[0;34m,\u001b[0m \u001b[0mG\u001b[0m\u001b[0;34m,\u001b[0m \u001b[0mh\u001b[0m\u001b[0;34m,\u001b[0m \u001b[0mA\u001b[0m\u001b[0;34m,\u001b[0m \u001b[0mb\u001b[0m\u001b[0;34m)\u001b[0m\u001b[0;34m\u001b[0m\u001b[0;34m\u001b[0m\u001b[0m\n\u001b[0m\u001b[1;32m      6\u001b[0m \u001b[0mprint\u001b[0m\u001b[0;34m(\u001b[0m\u001b[0mzhat\u001b[0m\u001b[0;34m)\u001b[0m\u001b[0;34m\u001b[0m\u001b[0;34m\u001b[0m\u001b[0m\n",
      "\u001b[0;32m~/Documents/cs159/CS159Project/qpth/qpth/qp.py\u001b[0m in \u001b[0;36mforward\u001b[0;34m(ctx, Q_, p_, G_, h_, A_, b_)\u001b[0m\n\u001b[1;32m     94\u001b[0m             \u001b[0;32mif\u001b[0m \u001b[0msolver\u001b[0m \u001b[0;34m==\u001b[0m \u001b[0mQPSolvers\u001b[0m\u001b[0;34m.\u001b[0m\u001b[0mPDIPM_BATCHED\u001b[0m\u001b[0;34m:\u001b[0m\u001b[0;34m\u001b[0m\u001b[0;34m\u001b[0m\u001b[0m\n\u001b[1;32m     95\u001b[0m                 \u001b[0mctx\u001b[0m\u001b[0;34m.\u001b[0m\u001b[0mQ_LU\u001b[0m\u001b[0;34m,\u001b[0m \u001b[0mctx\u001b[0m\u001b[0;34m.\u001b[0m\u001b[0mS_LU\u001b[0m\u001b[0;34m,\u001b[0m \u001b[0mctx\u001b[0m\u001b[0;34m.\u001b[0m\u001b[0mR\u001b[0m \u001b[0;34m=\u001b[0m \u001b[0mpdipm_b\u001b[0m\u001b[0;34m.\u001b[0m\u001b[0mpre_factor_kkt\u001b[0m\u001b[0;34m(\u001b[0m\u001b[0mQ\u001b[0m\u001b[0;34m,\u001b[0m \u001b[0mG\u001b[0m\u001b[0;34m,\u001b[0m \u001b[0mA\u001b[0m\u001b[0;34m)\u001b[0m\u001b[0;34m\u001b[0m\u001b[0;34m\u001b[0m\u001b[0m\n\u001b[0;32m---> 96\u001b[0;31m                 zhats, ctx.nus, ctx.lams, ctx.slacks = pdipm_b.forward(\n\u001b[0m\u001b[1;32m     97\u001b[0m                     \u001b[0mQ\u001b[0m\u001b[0;34m,\u001b[0m \u001b[0mp\u001b[0m\u001b[0;34m,\u001b[0m \u001b[0mG\u001b[0m\u001b[0;34m,\u001b[0m \u001b[0mh\u001b[0m\u001b[0;34m,\u001b[0m \u001b[0mA\u001b[0m\u001b[0;34m,\u001b[0m \u001b[0mb\u001b[0m\u001b[0;34m,\u001b[0m \u001b[0mctx\u001b[0m\u001b[0;34m.\u001b[0m\u001b[0mQ_LU\u001b[0m\u001b[0;34m,\u001b[0m \u001b[0mctx\u001b[0m\u001b[0;34m.\u001b[0m\u001b[0mS_LU\u001b[0m\u001b[0;34m,\u001b[0m \u001b[0mctx\u001b[0m\u001b[0;34m.\u001b[0m\u001b[0mR\u001b[0m\u001b[0;34m,\u001b[0m\u001b[0;34m\u001b[0m\u001b[0;34m\u001b[0m\u001b[0m\n\u001b[1;32m     98\u001b[0m                     eps, verbose, notImprovedLim, maxIter)\n",
      "\u001b[0;32m~/Documents/cs159/CS159Project/qpth/qpth/solvers/pdipm/batch.py\u001b[0m in \u001b[0;36mforward\u001b[0;34m(Q, p, G, h, A, b, Q_LU, S_LU, R, eps, verbose, notImprovedLim, maxIter, solver)\u001b[0m\n\u001b[1;32m     60\u001b[0m     \u001b[0;32melif\u001b[0m \u001b[0msolver\u001b[0m \u001b[0;34m==\u001b[0m \u001b[0mKKTSolvers\u001b[0m\u001b[0;34m.\u001b[0m\u001b[0mLU_PARTIAL\u001b[0m\u001b[0;34m:\u001b[0m\u001b[0;34m\u001b[0m\u001b[0;34m\u001b[0m\u001b[0m\n\u001b[1;32m     61\u001b[0m         \u001b[0md\u001b[0m \u001b[0;34m=\u001b[0m \u001b[0mtorch\u001b[0m\u001b[0;34m.\u001b[0m\u001b[0mones\u001b[0m\u001b[0;34m(\u001b[0m\u001b[0mnBatch\u001b[0m\u001b[0;34m,\u001b[0m \u001b[0mnineq\u001b[0m\u001b[0;34m)\u001b[0m\u001b[0;34m.\u001b[0m\u001b[0mtype_as\u001b[0m\u001b[0;34m(\u001b[0m\u001b[0mQ\u001b[0m\u001b[0;34m)\u001b[0m\u001b[0;34m\u001b[0m\u001b[0;34m\u001b[0m\u001b[0m\n\u001b[0;32m---> 62\u001b[0;31m         \u001b[0mfactor_kkt\u001b[0m\u001b[0;34m(\u001b[0m\u001b[0mS_LU\u001b[0m\u001b[0;34m,\u001b[0m \u001b[0mR\u001b[0m\u001b[0;34m,\u001b[0m \u001b[0md\u001b[0m\u001b[0;34m)\u001b[0m\u001b[0;34m\u001b[0m\u001b[0;34m\u001b[0m\u001b[0m\n\u001b[0m\u001b[1;32m     63\u001b[0m         x, s, z, y = solve_kkt(\n\u001b[1;32m     64\u001b[0m             \u001b[0mQ_LU\u001b[0m\u001b[0;34m,\u001b[0m \u001b[0md\u001b[0m\u001b[0;34m,\u001b[0m \u001b[0mG\u001b[0m\u001b[0;34m,\u001b[0m \u001b[0mA\u001b[0m\u001b[0;34m,\u001b[0m \u001b[0mS_LU\u001b[0m\u001b[0;34m,\u001b[0m\u001b[0;34m\u001b[0m\u001b[0;34m\u001b[0m\u001b[0m\n",
      "\u001b[0;32m~/Documents/cs159/CS159Project/qpth/qpth/solvers/pdipm/batch.py\u001b[0m in \u001b[0;36mfactor_kkt\u001b[0;34m(S_LU, R, d)\u001b[0m\n\u001b[1;32m    448\u001b[0m         \u001b[0;31m# torch.lu_unpack is inefficient here:\u001b[0m\u001b[0;34m\u001b[0m\u001b[0;34m\u001b[0m\u001b[0;34m\u001b[0m\u001b[0m\n\u001b[1;32m    449\u001b[0m         \u001b[0moldPivotsPacked\u001b[0m \u001b[0;34m=\u001b[0m \u001b[0mS_LU\u001b[0m\u001b[0;34m[\u001b[0m\u001b[0;36m1\u001b[0m\u001b[0;34m]\u001b[0m\u001b[0;34m[\u001b[0m\u001b[0;34m:\u001b[0m\u001b[0;34m,\u001b[0m \u001b[0;34m-\u001b[0m\u001b[0mnineq\u001b[0m\u001b[0;34m:\u001b[0m\u001b[0;34m]\u001b[0m \u001b[0;34m-\u001b[0m \u001b[0mneq\u001b[0m\u001b[0;34m\u001b[0m\u001b[0;34m\u001b[0m\u001b[0m\n\u001b[0;32m--> 450\u001b[0;31m         oldPivots, _, _ = torch.lu_unpack(\n\u001b[0m\u001b[1;32m    451\u001b[0m             T_LU[0], oldPivotsPacked, unpack_data=False)\n\u001b[1;32m    452\u001b[0m         \u001b[0mnewPivotsPacked\u001b[0m \u001b[0;34m=\u001b[0m \u001b[0mT_LU\u001b[0m\u001b[0;34m[\u001b[0m\u001b[0;36m1\u001b[0m\u001b[0;34m]\u001b[0m\u001b[0;34m\u001b[0m\u001b[0;34m\u001b[0m\u001b[0m\n",
      "\u001b[0;32m~/miniconda3/envs/cs159/lib/python3.8/site-packages/torch/functional.py\u001b[0m in \u001b[0;36mlu_unpack\u001b[0;34m(LU_data, LU_pivots, unpack_data, unpack_pivots)\u001b[0m\n\u001b[1;32m    155\u001b[0m                 \u001b[0mfinal_order\u001b[0m \u001b[0;34m=\u001b[0m \u001b[0mlist\u001b[0m\u001b[0;34m(\u001b[0m\u001b[0mrange\u001b[0m\u001b[0;34m(\u001b[0m\u001b[0mm\u001b[0m\u001b[0;34m)\u001b[0m\u001b[0;34m)\u001b[0m\u001b[0;34m\u001b[0m\u001b[0;34m\u001b[0m\u001b[0m\n\u001b[1;32m    156\u001b[0m                 \u001b[0;32mfor\u001b[0m \u001b[0mk\u001b[0m\u001b[0;34m,\u001b[0m \u001b[0mj\u001b[0m \u001b[0;32min\u001b[0m \u001b[0menumerate\u001b[0m\u001b[0;34m(\u001b[0m\u001b[0mLU_pivots_zero_idx\u001b[0m\u001b[0;34m[\u001b[0m\u001b[0midx\u001b[0m\u001b[0;34m]\u001b[0m\u001b[0;34m)\u001b[0m\u001b[0;34m:\u001b[0m\u001b[0;34m\u001b[0m\u001b[0;34m\u001b[0m\u001b[0m\n\u001b[0;32m--> 157\u001b[0;31m                     \u001b[0mfinal_order\u001b[0m\u001b[0;34m[\u001b[0m\u001b[0mk\u001b[0m\u001b[0;34m]\u001b[0m\u001b[0;34m,\u001b[0m \u001b[0mfinal_order\u001b[0m\u001b[0;34m[\u001b[0m\u001b[0mj\u001b[0m\u001b[0;34m]\u001b[0m \u001b[0;34m=\u001b[0m \u001b[0mfinal_order\u001b[0m\u001b[0;34m[\u001b[0m\u001b[0mj\u001b[0m\u001b[0;34m]\u001b[0m\u001b[0;34m,\u001b[0m \u001b[0mfinal_order\u001b[0m\u001b[0;34m[\u001b[0m\u001b[0mk\u001b[0m\u001b[0;34m]\u001b[0m\u001b[0;34m\u001b[0m\u001b[0;34m\u001b[0m\u001b[0m\n\u001b[0m\u001b[1;32m    158\u001b[0m                 \u001b[0mP\u001b[0m\u001b[0;34m[\u001b[0m\u001b[0midx\u001b[0m\u001b[0;34m]\u001b[0m \u001b[0;34m=\u001b[0m \u001b[0mP\u001b[0m\u001b[0;34m[\u001b[0m\u001b[0midx\u001b[0m\u001b[0;34m]\u001b[0m\u001b[0;34m.\u001b[0m\u001b[0mindex_select\u001b[0m\u001b[0;34m(\u001b[0m\u001b[0;36m1\u001b[0m\u001b[0;34m,\u001b[0m \u001b[0mtorch\u001b[0m\u001b[0;34m.\u001b[0m\u001b[0mas_tensor\u001b[0m\u001b[0;34m(\u001b[0m\u001b[0mfinal_order\u001b[0m\u001b[0;34m,\u001b[0m \u001b[0mdevice\u001b[0m\u001b[0;34m=\u001b[0m\u001b[0mLU_pivots\u001b[0m\u001b[0;34m.\u001b[0m\u001b[0mdevice\u001b[0m\u001b[0;34m)\u001b[0m\u001b[0;34m)\u001b[0m\u001b[0;34m\u001b[0m\u001b[0;34m\u001b[0m\u001b[0m\n\u001b[1;32m    159\u001b[0m         \u001b[0;32melse\u001b[0m\u001b[0;34m:\u001b[0m\u001b[0;34m\u001b[0m\u001b[0;34m\u001b[0m\u001b[0m\n",
      "\u001b[0;31mIndexError\u001b[0m: list index out of range"
     ]
    }
   ],
   "source": [
    "# OptNet \n",
    "\n",
    "f = QPFunction(verbose=-1, maxIter=100, solver=QPSolvers.PDIPM_BATCHED)\n",
    "# %timeit f(Q, p, G, h, A, b)\n",
    "zhat = f(Q, p, G, h, A, b)\n",
    "print(zhat)"
   ]
  },
  {
   "cell_type": "code",
   "execution_count": 5,
   "metadata": {
    "tags": [
     "outputPrepend",
     "outputPrepend",
     "outputPrepend",
     "outputPrepend",
     "outputPrepend",
     "outputPrepend",
     "outputPrepend",
     "outputPrepend",
     "outputPrepend",
     "outputPrepend",
     "outputPrepend",
     "outputPrepend",
     "outputPrepend",
     "outputPrepend",
     "outputPrepend",
     "outputPrepend",
     "outputPrepend",
     "outputPrepend",
     "outputPrepend",
     "outputPrepend",
     "outputPrepend",
     "outputPrepend",
     "outputPrepend",
     "outputPrepend",
     "outputPrepend",
     "outputPrepend",
     "outputPrepend",
     "outputPrepend",
     "outputPrepend",
     "outputPrepend",
     "outputPrepend",
     "outputPrepend"
    ]
   },
   "outputs": [
    {
     "output_type": "stream",
     "name": "stdout",
     "text": "tensor([[-9.8988e+116,  1.1947e+118,  4.7238e+116,  2.3498e+118, -1.5882e+118]],\n       dtype=torch.float64)\n"
    }
   ],
   "source": [
    "# Layer Dynamic\n",
    "\n",
    "f = QPFunction(verbose=-1, maxIter=100, solver=QPSolvers.DYNAMIC)\n",
    "# %timeit f(Q, p, G, h, A, b)\n",
    "zhat = f(Q, p, G, h, A, b)\n",
    "print(zhat)"
   ]
  },
  {
   "cell_type": "code",
   "execution_count": 6,
   "metadata": {
    "tags": [
     "outputPrepend",
     "outputPrepend",
     "outputPrepend",
     "outputPrepend",
     "outputPrepend",
     "outputPrepend",
     "outputPrepend",
     "outputPrepend",
     "outputPrepend",
     "outputPrepend",
     "outputPrepend",
     "outputPrepend",
     "outputPrepend",
     "outputPrepend",
     "outputPrepend",
     "outputPrepend",
     "outputPrepend",
     "outputPrepend",
     "outputPrepend",
     "outputPrepend"
    ]
   },
   "outputs": [
    {
     "output_type": "error",
     "ename": "TypeError",
     "evalue": "new(): data must be a sequence (got NoneType)",
     "traceback": [
      "\u001b[0;31m---------------------------------------------------------------------------\u001b[0m",
      "\u001b[0;31mTypeError\u001b[0m                                 Traceback (most recent call last)",
      "\u001b[0;32m<ipython-input-6-a7497b7a4166>\u001b[0m in \u001b[0;36m<module>\u001b[0;34m\u001b[0m\n\u001b[1;32m      3\u001b[0m \u001b[0mf\u001b[0m \u001b[0;34m=\u001b[0m \u001b[0mQPFunction\u001b[0m\u001b[0;34m(\u001b[0m\u001b[0mverbose\u001b[0m\u001b[0;34m=\u001b[0m\u001b[0;34m-\u001b[0m\u001b[0;36m1\u001b[0m\u001b[0;34m,\u001b[0m \u001b[0mmaxIter\u001b[0m\u001b[0;34m=\u001b[0m\u001b[0;36m20\u001b[0m\u001b[0;34m,\u001b[0m \u001b[0msolver\u001b[0m\u001b[0;34m=\u001b[0m\u001b[0mQPSolvers\u001b[0m\u001b[0;34m.\u001b[0m\u001b[0mCVXPY\u001b[0m\u001b[0;34m)\u001b[0m\u001b[0;34m\u001b[0m\u001b[0;34m\u001b[0m\u001b[0m\n\u001b[1;32m      4\u001b[0m \u001b[0;31m# %timeit f(Q, p, G, h, A, b)\u001b[0m\u001b[0;34m\u001b[0m\u001b[0;34m\u001b[0m\u001b[0;34m\u001b[0m\u001b[0m\n\u001b[0;32m----> 5\u001b[0;31m \u001b[0mzhat\u001b[0m \u001b[0;34m=\u001b[0m \u001b[0mf\u001b[0m\u001b[0;34m(\u001b[0m\u001b[0mQ\u001b[0m\u001b[0;34m,\u001b[0m \u001b[0mp\u001b[0m\u001b[0;34m,\u001b[0m \u001b[0mG\u001b[0m\u001b[0;34m,\u001b[0m \u001b[0mh\u001b[0m\u001b[0;34m,\u001b[0m \u001b[0mA\u001b[0m\u001b[0;34m,\u001b[0m \u001b[0mb\u001b[0m\u001b[0;34m)\u001b[0m\u001b[0;34m\u001b[0m\u001b[0;34m\u001b[0m\u001b[0m\n\u001b[0m\u001b[1;32m      6\u001b[0m \u001b[0mprint\u001b[0m\u001b[0;34m(\u001b[0m\u001b[0mzhat\u001b[0m\u001b[0;34m)\u001b[0m\u001b[0;34m\u001b[0m\u001b[0;34m\u001b[0m\u001b[0m\n",
      "\u001b[0;32m~/Documents/cs159/CS159Project/qpth/qpth/qp.py\u001b[0m in \u001b[0;36mforward\u001b[0;34m(ctx, Q_, p_, G_, h_, A_, b_)\u001b[0m\n\u001b[1;32m    112\u001b[0m                     \u001b[0;31m#     import IPython, sys; IPython.embed(); sys.exit(-1)\u001b[0m\u001b[0;34m\u001b[0m\u001b[0;34m\u001b[0m\u001b[0;34m\u001b[0m\u001b[0m\n\u001b[1;32m    113\u001b[0m                     \u001b[0mzhats\u001b[0m\u001b[0;34m[\u001b[0m\u001b[0mi\u001b[0m\u001b[0;34m]\u001b[0m \u001b[0;34m=\u001b[0m \u001b[0mtorch\u001b[0m\u001b[0;34m.\u001b[0m\u001b[0mTensor\u001b[0m\u001b[0;34m(\u001b[0m\u001b[0mzhati\u001b[0m\u001b[0;34m)\u001b[0m\u001b[0;34m\u001b[0m\u001b[0;34m\u001b[0m\u001b[0m\n\u001b[0;32m--> 114\u001b[0;31m                     \u001b[0mlams\u001b[0m\u001b[0;34m[\u001b[0m\u001b[0mi\u001b[0m\u001b[0;34m]\u001b[0m \u001b[0;34m=\u001b[0m \u001b[0mtorch\u001b[0m\u001b[0;34m.\u001b[0m\u001b[0mTensor\u001b[0m\u001b[0;34m(\u001b[0m\u001b[0mlami\u001b[0m\u001b[0;34m)\u001b[0m\u001b[0;34m\u001b[0m\u001b[0;34m\u001b[0m\u001b[0m\n\u001b[0m\u001b[1;32m    115\u001b[0m                     \u001b[0mslacks\u001b[0m\u001b[0;34m[\u001b[0m\u001b[0mi\u001b[0m\u001b[0;34m]\u001b[0m \u001b[0;34m=\u001b[0m \u001b[0mtorch\u001b[0m\u001b[0;34m.\u001b[0m\u001b[0mTensor\u001b[0m\u001b[0;34m(\u001b[0m\u001b[0msi\u001b[0m\u001b[0;34m)\u001b[0m\u001b[0;34m\u001b[0m\u001b[0;34m\u001b[0m\u001b[0m\n\u001b[1;32m    116\u001b[0m                     \u001b[0;32mif\u001b[0m \u001b[0mneq\u001b[0m \u001b[0;34m>\u001b[0m \u001b[0;36m0\u001b[0m\u001b[0;34m:\u001b[0m\u001b[0;34m\u001b[0m\u001b[0;34m\u001b[0m\u001b[0m\n",
      "\u001b[0;31mTypeError\u001b[0m: new(): data must be a sequence (got NoneType)"
     ]
    }
   ],
   "source": [
    "# CVXPY\n",
    "\n",
    "f = QPFunction(verbose=-1, maxIter=20, solver=QPSolvers.CVXPY)\n",
    "# %timeit f(Q, p, G, h, A, b)\n",
    "zhat = f(Q, p, G, h, A, b)\n",
    "print(zhat)"
   ]
  },
  {
   "cell_type": "code",
   "execution_count": 12,
   "metadata": {},
   "outputs": [
    {
     "output_type": "stream",
     "name": "stdout",
     "text": "tensor([[-0.0596, -0.0514, -0.1648,  0.5139,  0.1814]], dtype=torch.float64)\ntensor([[0., 0., 0., 0.]], dtype=torch.float64)\ntensor([[ 1.2050, -0.3724,  0.0921, -0.0562]], dtype=torch.float64)\n"
    }
   ],
   "source": [
    "# Standard Forward Ineq\n",
    "\n",
    "# %timeit dynamic.forward(Q, p, G, h, A, b, maxIter=100)\n",
    "zhat, lams, slacks = dynamic.forward_eq_new(Q, p, G, h, maxIter=100)\n",
    "\n",
    "print(zhat)\n",
    "print(lams)\n",
    "print(slacks)"
   ]
  },
  {
   "cell_type": "code",
   "execution_count": 13,
   "metadata": {
    "tags": [
     "outputPrepend",
     "outputPrepend",
     "outputPrepend",
     "outputPrepend",
     "outputPrepend",
     "outputPrepend",
     "outputPrepend",
     "outputPrepend",
     "outputPrepend",
     "outputPrepend",
     "outputPrepend",
     "outputPrepend",
     "outputPrepend",
     "outputPrepend",
     "outputPrepend",
     "outputPrepend",
     "outputPrepend",
     "outputPrepend",
     "outputPrepend",
     "outputPrepend",
     "outputPrepend",
     "outputPrepend"
    ]
   },
   "outputs": [
    {
     "output_type": "stream",
     "name": "stdout",
     "text": "tensor([[-5.4062e+15, -6.4525e+14,  3.2375e+15],\n        [-8.6517e+02, -6.4365e+02,  1.9715e+03]], device='cuda:0')\ntensor([[0.0000e+00, 0.0000e+00, 0.0000e+00, 1.1468e+13, 0.0000e+00],\n        [6.5945e+00, 0.0000e+00, 7.4883e+01, 0.0000e+00, 0.0000e+00]],\n       device='cuda:0')\ntensor([[-1.8995e+15,  1.7331e+15,  1.1393e+15, -1.4028e+15],\n        [-1.3153e+03, -1.9290e+02,  1.6116e+03, -8.8133e+02]], device='cuda:0')\ntensor([[-1.1443e+15,  2.3243e+15,  4.2349e+15, -3.4497e+14,  3.3386e+14],\n        [-2.6685e+00,  1.2827e+02, -2.5753e+01,  4.0653e+02,  1.0937e+03]],\n       device='cuda:0')\n"
    }
   ],
   "source": [
    "# Standard Forward\n",
    "\n",
    "# %timeit dynamic.forward(Q, p, G, h, A, b, maxIter=100)\n",
    "zhat, lams, nus, slacks = dynamic.forward(Q, p, G, h, A, b, maxIter=100)\n",
    "\n",
    "print(zhat)\n",
    "print(lams)\n",
    "print(nus)\n",
    "print(slacks)"
   ]
  },
  {
   "cell_type": "code",
   "execution_count": 8,
   "metadata": {},
   "outputs": [],
   "source": [
    "# Example data from: https://ncss-wpengine.netdna-ssl.com/wp-content/themes/ncss/pdf/Procedures/NCSS/Quadratic_Programming.pdf\n",
    "\n",
    "p = torch.tensor([1, -2, 4], dtype=torch.float).unsqueeze(0).cuda()\n",
    "Q = torch.tensor([[2,0,1],[0,4,0],[1,0,6]], dtype=torch.float).unsqueeze(0).cuda()\n",
    "h = torch.tensor([10, -2, 5, 5, 5, 0, 1, 0], dtype=torch.float).unsqueeze(0).cuda()\n",
    "G = torch.tensor([\n",
    "    [3, 4, -2],\n",
    "    [2, -2, -1],\n",
    "    [1, 0, 0],\n",
    "    [0, 1, 0],\n",
    "    [0, 0, 1],\n",
    "    [-1, 0, 0],\n",
    "    [0, -1, 0],\n",
    "    [0, 0, -1]\n",
    "], dtype=torch.float).unsqueeze(0).cuda()\n",
    "b = torch.tensor([5], dtype=torch.float).unsqueeze(0).cuda()\n",
    "A = torch.tensor([\n",
    "    [2, 3, 4]\n",
    "], dtype=torch.float).unsqueeze(0).cuda()"
   ]
  },
  {
   "cell_type": "code",
   "execution_count": 4,
   "metadata": {},
   "outputs": [],
   "source": [
    "# Random Data\n",
    "\n",
    "neq = 4\n",
    "nineq = 5\n",
    "nz = 3\n",
    "nBatch = 2\n",
    "\n",
    "_x = torch.rand(nBatch, nz, nz, dtype=torch.float).cuda()\n",
    "Q = (_x.bmm(_x.transpose(-1,1)))\n",
    "p = torch.rand(nBatch, nz, dtype=torch.float).cuda()\n",
    "h = torch.rand(nBatch, nineq, dtype=torch.float).cuda()\n",
    "G = torch.rand(nBatch, nineq, nz, dtype=torch.float).cuda()\n",
    "b = torch.rand(nBatch, neq, dtype=torch.float).cuda()\n",
    "A = torch.rand(nBatch, neq, nz, dtype=torch.float).cuda()"
   ]
  },
  {
   "cell_type": "code",
   "execution_count": 27,
   "metadata": {},
   "outputs": [
    {
     "output_type": "error",
     "ename": "AssertionError",
     "evalue": "",
     "traceback": [
      "\u001b[1;31m---------------------------------------------------------------------------\u001b[0m",
      "\u001b[1;31mAssertionError\u001b[0m                            Traceback (most recent call last)",
      "\u001b[1;32m<ipython-input-27-51d9633d1cb1>\u001b[0m in \u001b[0;36m<module>\u001b[1;34m\u001b[0m\n\u001b[0;32m      2\u001b[0m \u001b[1;33m\u001b[0m\u001b[0m\n\u001b[0;32m      3\u001b[0m \u001b[1;31m# %timeit forward_cvxpy(Q, p, G, h, A, b)\u001b[0m\u001b[1;33m\u001b[0m\u001b[1;33m\u001b[0m\u001b[1;33m\u001b[0m\u001b[0m\n\u001b[1;32m----> 4\u001b[1;33m \u001b[0mzhat\u001b[0m\u001b[1;33m,\u001b[0m \u001b[0mlams\u001b[0m\u001b[1;33m,\u001b[0m \u001b[0mnus\u001b[0m\u001b[1;33m,\u001b[0m \u001b[0mslacks\u001b[0m \u001b[1;33m=\u001b[0m \u001b[0mforward_cvxpy\u001b[0m\u001b[1;33m(\u001b[0m\u001b[0mQ\u001b[0m\u001b[1;33m,\u001b[0m \u001b[0mp\u001b[0m\u001b[1;33m,\u001b[0m \u001b[0mG\u001b[0m\u001b[1;33m,\u001b[0m \u001b[0mh\u001b[0m\u001b[1;33m,\u001b[0m \u001b[0mA\u001b[0m\u001b[1;33m,\u001b[0m \u001b[0mb\u001b[0m\u001b[1;33m)\u001b[0m\u001b[1;33m\u001b[0m\u001b[1;33m\u001b[0m\u001b[0m\n\u001b[0m\u001b[0;32m      5\u001b[0m \u001b[1;33m\u001b[0m\u001b[0m\n\u001b[0;32m      6\u001b[0m \u001b[0mprint\u001b[0m\u001b[1;33m(\u001b[0m\u001b[0mzhat\u001b[0m\u001b[1;33m)\u001b[0m\u001b[1;33m\u001b[0m\u001b[1;33m\u001b[0m\u001b[0m\n",
      "\u001b[1;32m<ipython-input-2-2892a18df664>\u001b[0m in \u001b[0;36mforward_cvxpy\u001b[1;34m(Q_, p_, G_, h_, A_, b_)\u001b[0m\n\u001b[0;32m     27\u001b[0m     \u001b[1;32mfor\u001b[0m \u001b[0mi\u001b[0m \u001b[1;32min\u001b[0m \u001b[0mrange\u001b[0m\u001b[1;33m(\u001b[0m\u001b[0mnBatch\u001b[0m\u001b[1;33m)\u001b[0m\u001b[1;33m:\u001b[0m\u001b[1;33m\u001b[0m\u001b[1;33m\u001b[0m\u001b[0m\n\u001b[0;32m     28\u001b[0m         \u001b[0mAi\u001b[0m\u001b[1;33m,\u001b[0m \u001b[0mbi\u001b[0m \u001b[1;33m=\u001b[0m \u001b[1;33m(\u001b[0m\u001b[0mA\u001b[0m\u001b[1;33m[\u001b[0m\u001b[0mi\u001b[0m\u001b[1;33m]\u001b[0m\u001b[1;33m,\u001b[0m \u001b[0mb\u001b[0m\u001b[1;33m[\u001b[0m\u001b[0mi\u001b[0m\u001b[1;33m]\u001b[0m\u001b[1;33m)\u001b[0m \u001b[1;32mif\u001b[0m \u001b[0mneq\u001b[0m \u001b[1;33m>\u001b[0m \u001b[1;36m0\u001b[0m \u001b[1;32melse\u001b[0m \u001b[1;33m(\u001b[0m\u001b[1;32mNone\u001b[0m\u001b[1;33m,\u001b[0m \u001b[1;32mNone\u001b[0m\u001b[1;33m)\u001b[0m\u001b[1;33m\u001b[0m\u001b[1;33m\u001b[0m\u001b[0m\n\u001b[1;32m---> 29\u001b[1;33m         vals[i], zhati, nui, lami, si = cvxpy.forward_single_np(\n\u001b[0m\u001b[0;32m     30\u001b[0m             *[x.cpu().numpy() if x is not None else None\n\u001b[0;32m     31\u001b[0m             for x in (Q[i], p[i], G[i], h[i], Ai, bi)])\n",
      "\u001b[1;32md:\\Programming\\Projects\\Git\\OptNet\\CS159Project\\qpth\\qpth\\solvers\\cvxpy.py\u001b[0m in \u001b[0;36mforward_single_np\u001b[1;34m(Q, p, G, h, A, b)\u001b[0m\n\u001b[0;32m     20\u001b[0m     \u001b[0mprob\u001b[0m\u001b[1;33m.\u001b[0m\u001b[0msolve\u001b[0m\u001b[1;33m(\u001b[0m\u001b[1;33m)\u001b[0m  \u001b[1;31m# solver=cp.SCS, max_iters=5000, verbose=False)\u001b[0m\u001b[1;33m\u001b[0m\u001b[1;33m\u001b[0m\u001b[0m\n\u001b[0;32m     21\u001b[0m     \u001b[1;31m# prob.solve(solver=cp.SCS, max_iters=10000, verbose=True)\u001b[0m\u001b[1;33m\u001b[0m\u001b[1;33m\u001b[0m\u001b[1;33m\u001b[0m\u001b[0m\n\u001b[1;32m---> 22\u001b[1;33m     \u001b[1;32massert\u001b[0m\u001b[1;33m(\u001b[0m\u001b[1;34m'optimal'\u001b[0m \u001b[1;32min\u001b[0m \u001b[0mprob\u001b[0m\u001b[1;33m.\u001b[0m\u001b[0mstatus\u001b[0m\u001b[1;33m)\u001b[0m\u001b[1;33m\u001b[0m\u001b[1;33m\u001b[0m\u001b[0m\n\u001b[0m\u001b[0;32m     23\u001b[0m     \u001b[0mzhat\u001b[0m \u001b[1;33m=\u001b[0m \u001b[0mnp\u001b[0m\u001b[1;33m.\u001b[0m\u001b[0marray\u001b[0m\u001b[1;33m(\u001b[0m\u001b[0mz_\u001b[0m\u001b[1;33m.\u001b[0m\u001b[0mvalue\u001b[0m\u001b[1;33m)\u001b[0m\u001b[1;33m.\u001b[0m\u001b[0mravel\u001b[0m\u001b[1;33m(\u001b[0m\u001b[1;33m)\u001b[0m\u001b[1;33m\u001b[0m\u001b[1;33m\u001b[0m\u001b[0m\n\u001b[0;32m     24\u001b[0m     \u001b[0mnu\u001b[0m \u001b[1;33m=\u001b[0m \u001b[0mnp\u001b[0m\u001b[1;33m.\u001b[0m\u001b[0marray\u001b[0m\u001b[1;33m(\u001b[0m\u001b[0meqCon\u001b[0m\u001b[1;33m.\u001b[0m\u001b[0mdual_value\u001b[0m\u001b[1;33m)\u001b[0m\u001b[1;33m.\u001b[0m\u001b[0mravel\u001b[0m\u001b[1;33m(\u001b[0m\u001b[1;33m)\u001b[0m \u001b[1;32mif\u001b[0m \u001b[0meqCon\u001b[0m \u001b[1;32mis\u001b[0m \u001b[1;32mnot\u001b[0m \u001b[1;32mNone\u001b[0m \u001b[1;32melse\u001b[0m \u001b[1;32mNone\u001b[0m\u001b[1;33m\u001b[0m\u001b[1;33m\u001b[0m\u001b[0m\n",
      "\u001b[1;31mAssertionError\u001b[0m: "
     ]
    }
   ],
   "source": [
    "# CVXPY\n",
    "\n",
    "# %timeit forward_cvxpy(Q, p, G, h, A, b)\n",
    "zhat, lams, nus, slacks = forward_cvxpy(Q, p, G, h, A, b)\n",
    "\n",
    "print(zhat)\n",
    "print(lams)\n",
    "print(nus)\n",
    "print(slacks)"
   ]
  },
  {
   "cell_type": "code",
   "execution_count": null,
   "metadata": {},
   "outputs": [],
   "source": []
  }
 ],
 "metadata": {
  "language_info": {
   "codemirror_mode": {
    "name": "ipython",
    "version": 3
   },
   "file_extension": ".py",
   "mimetype": "text/x-python",
   "name": "python",
   "nbconvert_exporter": "python",
   "pygments_lexer": "ipython3",
   "version": "3.8.3-final"
  },
  "orig_nbformat": 2,
  "kernelspec": {
   "name": "python3",
   "display_name": "Python 3"
  }
 },
 "nbformat": 4,
 "nbformat_minor": 2
}